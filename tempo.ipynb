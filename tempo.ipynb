{
 "cells": [
  {
   "cell_type": "code",
   "execution_count": 1,
   "id": "ca0bf99b",
   "metadata": {},
   "outputs": [
    {
     "name": "stdout",
     "output_type": "stream",
     "text": [
      "pygame 2.6.1 (SDL 2.28.4, Python 3.12.4)\n",
      "Hello from the pygame community. https://www.pygame.org/contribute.html\n"
     ]
    }
   ],
   "source": [
    "import librosa\n",
    "import pygame\n",
    "import numpy as np\n",
    "import os\n",
    "import matplotlib.pyplot as plt\n",
    "import time\n",
    "from IPython.display import clear_output"
   ]
  },
  {
   "cell_type": "code",
   "execution_count": 2,
   "id": "f5412466",
   "metadata": {},
   "outputs": [],
   "source": [
    "def dance_to_music(audio_path):\n",
    "    \"\"\"\n",
    "    Create an ASCII art animation that dances to the music's tempo while playing the audio\n",
    "    \n",
    "    Parameters:\n",
    "        audio_path (str): Path to the audio file\n",
    "    \"\"\"\n",
    "    # Initialize pygame mixer\n",
    "    pygame.mixer.init()\n",
    "    pygame.mixer.music.load(audio_path)\n",
    "    \n",
    "    # Load and analyze the audio\n",
    "    y, sr = librosa.load(audio_path)\n",
    "    onset_env = librosa.onset.onset_strength(y=y, sr=sr)\n",
    "    tempo = librosa.beat.tempo(onset_envelope=onset_env, sr=sr)[0]\n",
    "    \n",
    "    # Calculate delay between frames based on tempo\n",
    "    delay = 60.0 / tempo\n",
    "    \n",
    "    # Define dance moves (ASCII art frames)\n",
    "    dance_moves = [\n",
    "        \"\"\"\n",
    "          o\n",
    "         /|\\\\\n",
    "         / \\\\\n",
    "        \"\"\",\n",
    "        \"\"\"\n",
    "          o\n",
    "         /|\\\\\n",
    "         | |\n",
    "        \"\"\",\n",
    "        \"\"\"\n",
    "           o\n",
    "          \\\\|/\n",
    "          / \\\\\n",
    "        \"\"\",\n",
    "        \"\"\"\n",
    "          o\n",
    "         -|-\n",
    "         / \\\\\n",
    "        \"\"\"\n",
    "    ]\n",
    "    \n",
    "    print(f\"Dancing at {tempo:.1f} BPM!\")\n",
    "    \n",
    "    # Start playing the music\n",
    "    pygame.mixer.music.play()\n",
    "    \n",
    "    try:\n",
    "        # Continue animation while music is playing\n",
    "        while pygame.mixer.music.get_busy():\n",
    "            for frame in dance_moves:\n",
    "                clear_output(wait=True)\n",
    "                print(frame)\n",
    "                time.sleep(delay)  # Divide by 2 to make two moves per beat\n",
    "    except KeyboardInterrupt:\n",
    "        pass\n",
    "    finally:\n",
    "        # Clean up pygame\n",
    "        pygame.mixer.music.stop()\n",
    "        pygame.mixer.quit()"
   ]
  },
  {
   "cell_type": "code",
   "execution_count": 3,
   "id": "a14d0212",
   "metadata": {},
   "outputs": [
    {
     "name": "stdout",
     "output_type": "stream",
     "text": [
      "\n",
      "          o\n",
      "         -|-\n",
      "         / \\\n",
      "        \n"
     ]
    }
   ],
   "source": [
    "audio_file = 'puppetSounds/mtr_type_beat.mp3'\n",
    "dance_to_music(audio_file)"
   ]
  },
  {
   "cell_type": "code",
   "execution_count": 4,
   "id": "0e96caeb",
   "metadata": {},
   "outputs": [
    {
     "name": "stdout",
     "output_type": "stream",
     "text": [
      "\n",
      "          o\n",
      "         -|-\n",
      "         / \\\n",
      "        \n"
     ]
    }
   ],
   "source": [
    "audio_file = 'puppetSounds/FREDIE_V_JASOM_SAMPLE.mp3'\n",
    "dance_to_music(audio_file)"
   ]
  },
  {
   "cell_type": "code",
   "execution_count": 5,
   "id": "427d1a16",
   "metadata": {},
   "outputs": [
    {
     "name": "stdout",
     "output_type": "stream",
     "text": [
      "\n",
      "          o\n",
      "         -|-\n",
      "         / \\\n",
      "        \n"
     ]
    }
   ],
   "source": [
    "audio_file = 'puppetSounds/nefarious.mp3'\n",
    "dance_to_music(audio_file)"
   ]
  },
  {
   "cell_type": "code",
   "execution_count": null,
   "id": "62665de6",
   "metadata": {},
   "outputs": [],
   "source": [
    "audio_file = 'puppetSounds/prabhas_pierre.mp3'\n",
    "dance_to_music(audio_file)"
   ]
  },
  {
   "cell_type": "code",
   "execution_count": null,
   "id": "825fc2fe",
   "metadata": {},
   "outputs": [
    {
     "name": "stdout",
     "output_type": "stream",
     "text": [
      "\n",
      "          o\n",
      "         -|-\n",
      "         / \\\n",
      "        \n"
     ]
    }
   ],
   "source": [
    "audio_file = 'puppetSounds/slow.mp3'\n",
    "dance_to_music(audio_file)"
   ]
  },
  {
   "cell_type": "code",
   "execution_count": null,
   "id": "a9d36467",
   "metadata": {},
   "outputs": [
    {
     "name": "stderr",
     "output_type": "stream",
     "text": [
      "/var/folders/r4/94rysg6x6_b3fhyz4nh31sxr0000gn/T/ipykernel_65006/1474017400.py:16: FutureWarning: librosa.beat.tempo\n",
      "\tThis function was moved to 'librosa.feature.rhythm.tempo' in librosa version 0.10.0.\n",
      "\tThis alias will be removed in librosa version 1.0.\n",
      "  tempo = librosa.beat.tempo(onset_envelope=onset_env, sr=sr)[0]\n",
      "/var/folders/r4/94rysg6x6_b3fhyz4nh31sxr0000gn/T/ipykernel_65006/1421961771.py:22: FutureWarning: librosa.beat.tempo\n",
      "\tThis function was moved to 'librosa.feature.rhythm.tempo' in librosa version 0.10.0.\n",
      "\tThis alias will be removed in librosa version 1.0.\n",
      "  dtempo = librosa.beat.tempo(onset_envelope=onset_env, sr=sr,\n"
     ]
    },
    {
     "name": "stdout",
     "output_type": "stream",
     "text": [
      "Tempo: 107.67 BPM\n",
      "Step Length: 0.557 seconds\n"
     ]
    },
    {
     "data": {
      "image/png": "[encoded data removed]",
      "text/plain": [
       "<Figure size 1200x600 with 1 Axes>"
      ]
     },
     "metadata": {},
     "output_type": "display_data"
    },
    {
     "name": "stdout",
     "output_type": "stream",
     "text": [
      "Average Tempo: 125.51 BPM\n"
     ]
    }
   ],
   "source": [
    "audio_file = 'puppetSounds/soundcloudbeat_2.wav'\n",
    "dance_to_music(audio_file)"
   ]
  }
 ],
 "metadata": {
  "kernelspec": {
   "display_name": "deeplearning",
   "language": "python",
   "name": "python3"
  },
  "language_info": {
   "codemirror_mode": {
    "name": "ipython",
    "version": 3
   },
   "file_extension": ".py",
   "mimetype": "text/x-python",
   "name": "python",
   "nbconvert_exporter": "python",
   "pygments_lexer": "ipython3",
   "version": "3.12.4"
  }
 },
 "nbformat": 4,
 "nbformat_minor": 5
}
